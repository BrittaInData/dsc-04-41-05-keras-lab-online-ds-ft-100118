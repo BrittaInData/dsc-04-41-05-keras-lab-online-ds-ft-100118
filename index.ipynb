{
 "cells": [
  {
   "cell_type": "markdown",
   "metadata": {},
   "source": [
    "# Keras - Lab\n",
    "\n",
    "## Introduction\n",
    "\n",
    "In this lab you'll once again build a neural network but this time with much less production time since we will be using Keras to do a lot of the heavy lifting building blocks which we coded from hand previously.  Our use case will be classifying Bank complaints.\n",
    "\n",
    "\n",
    "## Objectives\n",
    "\n",
    "You will be able to:\n",
    "* Build a neural network using Keras"
   ]
  },
  {
   "cell_type": "markdown",
   "metadata": {},
   "source": [
    "## Loading Required Packages\n",
    "\n",
    "Here we'll import all of the various packages that we'll use in this code along. We'll point out where these imports were used as they come up in the lab."
   ]
  },
  {
   "cell_type": "code",
   "execution_count": 1,
   "metadata": {},
   "outputs": [
    {
     "name": "stderr",
     "output_type": "stream",
     "text": [
      "Using TensorFlow backend.\n"
     ]
    }
   ],
   "source": [
    "import matplotlib.pyplot as plt\n",
    "import pandas as pd\n",
    "import numpy as np\n",
    "import random\n",
    "\n",
    "from sklearn.model_selection import train_test_split\n",
    "from keras.utils.np_utils import to_categorical\n",
    "from sklearn import preprocessing\n",
    "from keras.preprocessing.text import Tokenizer\n",
    "from keras import models\n",
    "from keras import layers\n",
    "from keras import optimizers"
   ]
  },
  {
   "cell_type": "markdown",
   "metadata": {},
   "source": [
    "## 1. Loading the data\n",
    "\n",
    "As usual, we will start our data science process by importing the data itself.  \n",
    "Load and preview as a pandas dataframe.   \n",
    "The data is stored in a file **Bank_complaints.csv**."
   ]
  },
  {
   "cell_type": "code",
   "execution_count": 2,
   "metadata": {},
   "outputs": [
    {
     "data": {
      "text/html": [
       "<div>\n",
       "<style scoped>\n",
       "    .dataframe tbody tr th:only-of-type {\n",
       "        vertical-align: middle;\n",
       "    }\n",
       "\n",
       "    .dataframe tbody tr th {\n",
       "        vertical-align: top;\n",
       "    }\n",
       "\n",
       "    .dataframe thead th {\n",
       "        text-align: right;\n",
       "    }\n",
       "</style>\n",
       "<table border=\"1\" class=\"dataframe\">\n",
       "  <thead>\n",
       "    <tr style=\"text-align: right;\">\n",
       "      <th></th>\n",
       "      <th>Product</th>\n",
       "      <th>Consumer complaint narrative</th>\n",
       "    </tr>\n",
       "  </thead>\n",
       "  <tbody>\n",
       "    <tr>\n",
       "      <th>0</th>\n",
       "      <td>Student loan</td>\n",
       "      <td>In XX/XX/XXXX I filled out the Fedlaon applica...</td>\n",
       "    </tr>\n",
       "    <tr>\n",
       "      <th>1</th>\n",
       "      <td>Student loan</td>\n",
       "      <td>I am being contacted by a debt collector for p...</td>\n",
       "    </tr>\n",
       "    <tr>\n",
       "      <th>2</th>\n",
       "      <td>Student loan</td>\n",
       "      <td>I cosigned XXXX student loans at SallieMae for...</td>\n",
       "    </tr>\n",
       "    <tr>\n",
       "      <th>3</th>\n",
       "      <td>Student loan</td>\n",
       "      <td>Navient has sytematically and illegally failed...</td>\n",
       "    </tr>\n",
       "    <tr>\n",
       "      <th>4</th>\n",
       "      <td>Student loan</td>\n",
       "      <td>My wife became eligible for XXXX Loan Forgiven...</td>\n",
       "    </tr>\n",
       "  </tbody>\n",
       "</table>\n",
       "</div>"
      ],
      "text/plain": [
       "        Product                       Consumer complaint narrative\n",
       "0  Student loan  In XX/XX/XXXX I filled out the Fedlaon applica...\n",
       "1  Student loan  I am being contacted by a debt collector for p...\n",
       "2  Student loan  I cosigned XXXX student loans at SallieMae for...\n",
       "3  Student loan  Navient has sytematically and illegally failed...\n",
       "4  Student loan  My wife became eligible for XXXX Loan Forgiven..."
      ]
     },
     "execution_count": 2,
     "metadata": {},
     "output_type": "execute_result"
    }
   ],
   "source": [
    "df = pd.read_csv('Bank_complaints.csv')\n",
    "df.head()"
   ]
  },
  {
   "cell_type": "code",
   "execution_count": 3,
   "metadata": {},
   "outputs": [
    {
     "name": "stdout",
     "output_type": "stream",
     "text": [
      "<class 'pandas.core.frame.DataFrame'>\n",
      "RangeIndex: 60000 entries, 0 to 59999\n",
      "Data columns (total 2 columns):\n",
      "Product                         60000 non-null object\n",
      "Consumer complaint narrative    60000 non-null object\n",
      "dtypes: object(2)\n",
      "memory usage: 937.6+ KB\n"
     ]
    }
   ],
   "source": [
    "df.info()"
   ]
  },
  {
   "cell_type": "markdown",
   "metadata": {},
   "source": [
    "## Further Preview of the Categories\n",
    "\n",
    "As we said, our task here is to categorize banking complaints into various predefined categories. Preview what these categories are and what percent of the complaints each accounts for."
   ]
  },
  {
   "cell_type": "code",
   "execution_count": 4,
   "metadata": {},
   "outputs": [
    {
     "data": {
      "text/plain": [
       "Student loan                   0.190067\n",
       "Credit card                    0.159000\n",
       "Consumer Loan                  0.157900\n",
       "Mortgage                       0.138867\n",
       "Bank account or service        0.138483\n",
       "Credit reporting               0.114400\n",
       "Checking or savings account    0.101283\n",
       "Name: Product, dtype: float64"
      ]
     },
     "execution_count": 4,
     "metadata": {},
     "output_type": "execute_result"
    }
   ],
   "source": [
    "df.Product.value_counts(normalize=True)"
   ]
  },
  {
   "cell_type": "markdown",
   "metadata": {},
   "source": [
    "## 2. Preprocessing\n",
    "\n",
    "Before we build our neural network, we need to do several preprocessing steps. First, we will create word vector counts (a bag of words type representation) of our complaints text. Next, we will change the category labels to integers. Finally, we will perform our usual train-test split before building and training our neural network using Keras. With that, let's start munging our data!"
   ]
  },
  {
   "cell_type": "markdown",
   "metadata": {},
   "source": [
    "## 2.1. One-hot encoding of the complaints\n",
    "\n",
    "Our first step again is to transform our textual data into a numerical representation. As we've started to see in some of our previous lessons on NLP, there are many ways to do this. Here, we'll use the `Tokenizer` method from the `preprocessing` module of the Keras package.   \n",
    "\n",
    "As with our previous work using NLTK, this will transform our text complaints into word vectors. (Note that the method of creating a vector is different from our previous work with NLTK; as you'll see, word order will be preserved as oppossed to a bag of words representation. In the below code, we'll only keep the 2,000 most common words and use one-hot encoding.\n",
    "\n",
    "Note that the code block below takes advantage of the following package import from our first code cell above.  \n",
    "`from keras.preprocessing.text import Tokenizer`"
   ]
  },
  {
   "cell_type": "code",
   "execution_count": 5,
   "metadata": {},
   "outputs": [],
   "source": [
    "# As a quick preliminary, briefly review the docstring for the Keras.preprocessing.text.Tokenizer method:\n",
    "Tokenizer?"
   ]
  },
  {
   "cell_type": "code",
   "execution_count": 6,
   "metadata": {},
   "outputs": [
    {
     "name": "stdout",
     "output_type": "stream",
     "text": [
      "sequences type: <class 'list'>\n"
     ]
    }
   ],
   "source": [
    "# Now onto the actual code recipe...\n",
    "\n",
    "# Our raw text complaints\n",
    "complaints = df[\"Consumer complaint narrative\"]\n",
    "\n",
    "# Initialize a tokenizer\n",
    "tokenizer = Tokenizer(num_words=2000) \n",
    "\n",
    "# Fit it to the complaints\n",
    "tokenizer.fit_on_texts(complaints) \n",
    "\n",
    "# Generate sequences\n",
    "sequences = tokenizer.texts_to_sequences(complaints) \n",
    "print('sequences type:', type(sequences))"
   ]
  },
  {
   "cell_type": "code",
   "execution_count": 7,
   "metadata": {},
   "outputs": [
    {
     "name": "stdout",
     "output_type": "stream",
     "text": [
      "one_hot_results type: <class 'numpy.ndarray'>\n"
     ]
    }
   ],
   "source": [
    "# Similar to sequences, but returns a numpy array\n",
    "one_hot_results= tokenizer.texts_to_matrix(complaints, mode='binary') \n",
    "\n",
    "print('one_hot_results type:', type(one_hot_results))"
   ]
  },
  {
   "cell_type": "code",
   "execution_count": 8,
   "metadata": {},
   "outputs": [
    {
     "name": "stdout",
     "output_type": "stream",
     "text": [
      "Found 50110 unique tokens.\n",
      "\n",
      "Dimensions of our coded results: (60000, 2000)\n"
     ]
    }
   ],
   "source": [
    "# Useful if we wish to decode (more explanation below)\n",
    "word_index = tokenizer.word_index \n",
    "\n",
    "# Tokens are the number of unique words across the corpus\n",
    "print('Found %s unique tokens.' % len(word_index)) \n",
    "\n",
    "# Our coded data\n",
    "print('\\nDimensions of our coded results:', np.shape(one_hot_results)) "
   ]
  },
  {
   "cell_type": "markdown",
   "metadata": {},
   "source": [
    "## Decoding our Word Vectors\n",
    "As a note, you can also decode these vectorized representations of the reviews. The `word_index` variable, defined above, stores the mapping from the label number to the actual word. Somewhat tediously, we can turn this dictionary inside out and map it back to our word vectors, giving us roughly the original complaint back. (As you'll see, the text won't be identical as we limited ourselves to 200 words.)"
   ]
  },
  {
   "cell_type": "markdown",
   "metadata": {},
   "source": [
    "## Python Review / Mini Challenge\n",
    "\n",
    "While a bit tangential to our main topic of interest, we need to reverse our current dictionary `word_index` which maps words from our corpus to integers. In decoding our one_hot_results, we will need to create a dictionary of these integers to the original words. Below, take the `word_index` dictionary object and change the orientation so that the values are keys and the keys values. In other words, you are transforming something of the form {A:1, B:2, C:3} to {1:A, 2:B, 3:C}"
   ]
  },
  {
   "cell_type": "code",
   "execution_count": 9,
   "metadata": {},
   "outputs": [],
   "source": [
    "                      # new order     # old order\n",
    "reverse_index = dict([(value,key) for (key,value) in word_index.items()])"
   ]
  },
  {
   "cell_type": "markdown",
   "metadata": {},
   "source": [
    "## Back to Decoding Our Word Vectors..."
   ]
  },
  {
   "cell_type": "code",
   "execution_count": 10,
   "metadata": {},
   "outputs": [
    {
     "name": "stdout",
     "output_type": "stream",
     "text": [
      "Original complaint text:\n",
      "I have already filed several complaints about AES/PHEAA. I was notified by a XXXX XXXX let @ XXXX, who pretended to be from your office, he said he was from CFPB. I found out this morning he is n't from your office, but is actually works at XXXX. \n",
      "\n",
      "This has wasted weeks of my time. They AES/PHEAA confirmed and admitted ( see attached transcript of XXXX, conversation at XXXX ( XXXX ) with XXXX that proves they verified the loans are not mine ) the student loans they had XXXX, and collected on, and reported negate credit reporting in my name are in fact, not mine. \n",
      "They conclued their investigation on XXXX admitting they made a mistake and have my name on soneone elses loans. I these XXXX loans total {$10000.00}, original amount. My XXXX loans I got was total {$3500.00}. We proved by providing AES/PHEAA, this with my original promissary notes I located recently, the XXXX of my college provided AES/PHEAA with their original shoeinf amounts of my XXXX loans which show different dates and amounts, the dates and amounts are not even close to matching these loans they have in my name, The original lender, XXXX XXXX Bank notifying AES/PHEAA, they never issued me a student loan, and original Loan Guarantor, XXXX, notifying AES/PHEAA, they never were guarantor of my loans. \n",
      "\n",
      "XXXX straight forward. But today, this person, XXXX XXXX, told me they know these loans are not mine, and they refuse to remove my name off these XXXX loan 's and correct their mistake, essentially forcing me to pay these loans off, bucause in XXXX they sold the loans to XXXX loans. \n",
      "\n",
      "This is absurd, first protruding to be this office, and then refusing to correct their mistake. \n",
      "\n",
      "Please for the love of XXXX will soneone from your office call me at XXXX, today. I am a XXXX vet and they are knowingly discriminating against me. \n",
      "Pretending to be you.\n"
     ]
    }
   ],
   "source": [
    "comment_idx_to_preview = 19\n",
    "print('Original complaint text:')\n",
    "print(complaints[comment_idx_to_preview])"
   ]
  },
  {
   "cell_type": "code",
   "execution_count": 11,
   "metadata": {},
   "outputs": [
    {
     "name": "stdout",
     "output_type": "stream",
     "text": [
      "Decoded review from Tokenizer:\n",
      "i have already filed several complaints about aes i was notified by a xxxx xxxx let xxxx who to be from your office he said he was from cfpb i found out this morning he is n't from your office but is actually works at xxxx this has weeks of my time they aes confirmed and admitted see attached of xxxx conversation at xxxx xxxx with xxxx that they verified the loans are not mine the student loans they had xxxx and on and reported credit reporting in my name are in fact not mine they their investigation on xxxx they made a mistake and have my name on loans i these xxxx loans total 10000 00 original amount my xxxx loans i got was total 00 we by providing aes this with my original notes i located recently the xxxx of my college provided aes with their original amounts of my xxxx loans which show different dates and amounts the dates and amounts are not even close to these loans they have in my name the original lender xxxx xxxx bank notifying aes they never issued me a student loan and original loan xxxx notifying aes they never were of my loans xxxx forward but today this person xxxx xxxx told me they know these loans are not mine and they refuse to remove my name off these xxxx loan 's and correct their mistake essentially me to pay these loans off in xxxx they sold the loans to xxxx loans this is first to be this office and then refusing to correct their mistake please for the of xxxx will from your office call me at xxxx today i am a xxxx and they are against me to be you\n"
     ]
    }
   ],
   "source": [
    "decoded_review = ' '.join([reverse_index.get(i) for i in sequences[comment_idx_to_preview]])\n",
    "print('Decoded review from Tokenizer:')\n",
    "print(decoded_review)"
   ]
  },
  {
   "cell_type": "markdown",
   "metadata": {},
   "source": [
    "## 2.2. Convert the Products to Numerical Categories\n",
    "\n",
    "On to step two of our preprocessing: converting our descriptive categories into integers."
   ]
  },
  {
   "cell_type": "code",
   "execution_count": 12,
   "metadata": {},
   "outputs": [
    {
     "name": "stdout",
     "output_type": "stream",
     "text": [
      "Original class labels:\n",
      "['Bank account or service', 'Checking or savings account', 'Consumer Loan', 'Credit card', 'Credit reporting', 'Mortgage', 'Student loan']\n"
     ]
    }
   ],
   "source": [
    "product = df[\"Product\"]\n",
    "\n",
    "# Initialize LabelEncoder\n",
    "encoder = preprocessing.LabelEncoder() \n",
    "# Fit LabelEncoder\n",
    "encoder.fit(product)\n",
    "print(\"Original class labels:\")\n",
    "print(list(encoder.classes_))"
   ]
  },
  {
   "cell_type": "code",
   "execution_count": 13,
   "metadata": {},
   "outputs": [
    {
     "name": "stdout",
     "output_type": "stream",
     "text": [
      "New product labels:\n",
      "[6 6 6 ... 4 4 4]\n"
     ]
    }
   ],
   "source": [
    "product_cat = encoder.transform(product)  \n",
    "print('New product labels:')\n",
    "print(product_cat)\n",
    "\n",
    "# If you wish to retrieve the original descriptive labels post production\n",
    "#list(le.inverse_transform([0, 1, 3, 3, 0, 6, 4])) "
   ]
  },
  {
   "cell_type": "code",
   "execution_count": 14,
   "metadata": {},
   "outputs": [
    {
     "name": "stdout",
     "output_type": "stream",
     "text": [
      "One hot labels; 7 binary columns, one for each of the categories.\n",
      "[[0. 0. 0. ... 0. 0. 1.]\n",
      " [0. 0. 0. ... 0. 0. 1.]\n",
      " [0. 0. 0. ... 0. 0. 1.]\n",
      " ...\n",
      " [0. 0. 0. ... 1. 0. 0.]\n",
      " [0. 0. 0. ... 1. 0. 0.]\n",
      " [0. 0. 0. ... 1. 0. 0.]]\n",
      "\n",
      "\n",
      "One hot labels shape:\n",
      "(60000, 7)\n"
     ]
    }
   ],
   "source": [
    "# Each row will be all zeros except for the category for that observation.\n",
    "print('One hot labels; 7 binary columns, one for each of the categories.') \n",
    "product_onehot = to_categorical(product_cat)\n",
    "print(product_onehot)\n",
    "print('\\n')\n",
    "print('One hot labels shape:')\n",
    "print(np.shape(product_onehot))"
   ]
  },
  {
   "cell_type": "markdown",
   "metadata": {},
   "source": [
    "## 2.3. Train-/Test-Split\n",
    "\n",
    "Now for our final preprocessing step: the usual train-test split."
   ]
  },
  {
   "cell_type": "code",
   "execution_count": 15,
   "metadata": {},
   "outputs": [
    {
     "name": "stdout",
     "output_type": "stream",
     "text": [
      "Test label shape:  (1500, 7)\n",
      "Train label shape: (58500, 7)\n",
      "Test shape:        (1500, 2000)\n",
      "Train shape:       (58500, 2000)\n"
     ]
    }
   ],
   "source": [
    "random.seed(123)\n",
    "test_index = random.sample(range(1,10000), 1500)\n",
    "\n",
    "test = one_hot_results[test_index]\n",
    "train = np.delete(one_hot_results, test_index, 0)\n",
    "\n",
    "label_test = product_onehot[test_index]\n",
    "label_train = np.delete(product_onehot, test_index, 0)\n",
    "\n",
    "print(\"Test label shape: \", np.shape(label_test))\n",
    "print(\"Train label shape:\", np.shape(label_train))\n",
    "print(\"Test shape:       \", np.shape(test))\n",
    "print(\"Train shape:      \", np.shape(train))"
   ]
  },
  {
   "cell_type": "markdown",
   "metadata": {},
   "source": [
    "## 3. Building the network"
   ]
  },
  {
   "cell_type": "markdown",
   "metadata": {},
   "source": [
    "Let's build a fully connected (Dense) layer network with relu activations in Keras. You can do this using: `Dense(16, activation='relu')`. In this examples, use 2 hidden with 50 units in the first layer and 25 in the second, both with a `relu` activation function. Because we are dealing with a multiclass problem (classifying the complaints into 7 ), we use a use a softmax classifyer in order to output 7 class probabilities per case.  \n",
    "\n",
    "The previous imports that you'll use here are:  \n",
    "\n",
    "```from keras import models\n",
    "from keras import layers```"
   ]
  },
  {
   "cell_type": "code",
   "execution_count": 16,
   "metadata": {},
   "outputs": [],
   "source": [
    "# Initialize a sequential model with 3 layers\n",
    "model = models.Sequential()\n",
    "\n",
    "# Two hidden layers (one with 50 nodes, the other with 25) - using relu ...\n",
    "model.add(layers.Dense(50, activation='relu', input_shape=(2000,)))\n",
    "model.add(layers.Dense(25, activation='relu'))\n",
    "\n",
    "# ... and the final classification output layer - using softmax\n",
    "model.add(layers.Dense(7, activation='softmax'))"
   ]
  },
  {
   "cell_type": "code",
   "execution_count": 17,
   "metadata": {},
   "outputs": [
    {
     "data": {
      "text/plain": [
       "(None, 7)"
      ]
     },
     "execution_count": 17,
     "metadata": {},
     "output_type": "execute_result"
    }
   ],
   "source": [
    "# Inspect the model\n",
    "model.output_shape"
   ]
  },
  {
   "cell_type": "code",
   "execution_count": 18,
   "metadata": {},
   "outputs": [
    {
     "name": "stdout",
     "output_type": "stream",
     "text": [
      "_________________________________________________________________\n",
      "Layer (type)                 Output Shape              Param #   \n",
      "=================================================================\n",
      "dense_1 (Dense)              (None, 50)                100050    \n",
      "_________________________________________________________________\n",
      "dense_2 (Dense)              (None, 25)                1275      \n",
      "_________________________________________________________________\n",
      "dense_3 (Dense)              (None, 7)                 182       \n",
      "=================================================================\n",
      "Total params: 101,507\n",
      "Trainable params: 101,507\n",
      "Non-trainable params: 0\n",
      "_________________________________________________________________\n"
     ]
    }
   ],
   "source": [
    "# Inspect the model\n",
    "model.summary()"
   ]
  },
  {
   "cell_type": "markdown",
   "metadata": {},
   "source": [
    "## Compiling the model and look at the results\n",
    "\n",
    "Now, compile the model! This time, use `'categorical_crossentropy'` as the loss function and stochastic gradient descent, `'SGD'` as the optimizer. As in the previous lesson, include the accuracy as a metric."
   ]
  },
  {
   "cell_type": "code",
   "execution_count": 19,
   "metadata": {},
   "outputs": [],
   "source": [
    "model.compile(optimizer='SGD', \n",
    "              loss='categorical_crossentropy', \n",
    "              metrics=['accuracy'])"
   ]
  },
  {
   "cell_type": "markdown",
   "metadata": {},
   "source": [
    "## Training the model\n",
    "\n",
    "In the compiler, you'll be passing the optimizer (SGD = stochastic gradient descent), loss function, and metrics. Train the model for 120 epochs in mini-batches of 256 samples."
   ]
  },
  {
   "cell_type": "code",
   "execution_count": 20,
   "metadata": {
    "collapsed": true
   },
   "outputs": [
    {
     "name": "stdout",
     "output_type": "stream",
     "text": [
      "Epoch 1/120\n",
      "58500/58500 [==============================] - 6s 97us/step - loss: 1.9304 - acc: 0.1864\n",
      "Epoch 2/120\n",
      "58500/58500 [==============================] - 4s 61us/step - loss: 1.7742 - acc: 0.3552\n",
      "Epoch 3/120\n",
      "58500/58500 [==============================] - 3s 59us/step - loss: 1.4426 - acc: 0.5260\n",
      "Epoch 4/120\n",
      "58500/58500 [==============================] - 3s 58us/step - loss: 1.1317 - acc: 0.6353\n",
      "Epoch 5/120\n",
      "58500/58500 [==============================] - 3s 51us/step - loss: 0.9330 - acc: 0.6900\n",
      "Epoch 6/120\n",
      "58500/58500 [==============================] - 3s 54us/step - loss: 0.8140 - acc: 0.7196\n",
      "Epoch 7/120\n",
      "58500/58500 [==============================] - 3s 46us/step - loss: 0.7410 - acc: 0.7383\n",
      "Epoch 8/120\n",
      "58500/58500 [==============================] - 3s 53us/step - loss: 0.6933 - acc: 0.7506\n",
      "Epoch 9/120\n",
      "58500/58500 [==============================] - 3s 46us/step - loss: 0.6598 - acc: 0.7613\n",
      "Epoch 10/120\n",
      "58500/58500 [==============================] - 3s 45us/step - loss: 0.6346 - acc: 0.7690\n",
      "Epoch 11/120\n",
      "58500/58500 [==============================] - 3s 44us/step - loss: 0.6144 - acc: 0.7758\n",
      "Epoch 12/120\n",
      "58500/58500 [==============================] - 3s 47us/step - loss: 0.5971 - acc: 0.7824\n",
      "Epoch 13/120\n",
      "58500/58500 [==============================] - 3s 45us/step - loss: 0.5825 - acc: 0.7879\n",
      "Epoch 14/120\n",
      "58500/58500 [==============================] - 3s 46us/step - loss: 0.5697 - acc: 0.7923\n",
      "Epoch 15/120\n",
      "58500/58500 [==============================] - 3s 49us/step - loss: 0.5586 - acc: 0.7964\n",
      "Epoch 16/120\n",
      "58500/58500 [==============================] - 3s 45us/step - loss: 0.5485 - acc: 0.8000\n",
      "Epoch 17/120\n",
      "58500/58500 [==============================] - 3s 44us/step - loss: 0.5395 - acc: 0.8041\n",
      "Epoch 18/120\n",
      "58500/58500 [==============================] - 3s 44us/step - loss: 0.5312 - acc: 0.8065\n",
      "Epoch 19/120\n",
      "58500/58500 [==============================] - 3s 45us/step - loss: 0.5236 - acc: 0.8100\n",
      "Epoch 20/120\n",
      "58500/58500 [==============================] - 3s 45us/step - loss: 0.5165 - acc: 0.8135\n",
      "Epoch 21/120\n",
      "58500/58500 [==============================] - 3s 45us/step - loss: 0.5099 - acc: 0.8158\n",
      "Epoch 22/120\n",
      "58500/58500 [==============================] - 3s 43us/step - loss: 0.5037 - acc: 0.8184\n",
      "Epoch 23/120\n",
      "58500/58500 [==============================] - 3s 45us/step - loss: 0.4983 - acc: 0.8200\n",
      "Epoch 24/120\n",
      "58500/58500 [==============================] - 3s 55us/step - loss: 0.4928 - acc: 0.8225\n",
      "Epoch 25/120\n",
      "58500/58500 [==============================] - 4s 65us/step - loss: 0.4876 - acc: 0.8245\n",
      "Epoch 26/120\n",
      "58500/58500 [==============================] - 5s 85us/step - loss: 0.4828 - acc: 0.8259\n",
      "Epoch 27/120\n",
      "58500/58500 [==============================] - 4s 60us/step - loss: 0.4784 - acc: 0.8280\n",
      "Epoch 28/120\n",
      "58500/58500 [==============================] - 3s 58us/step - loss: 0.4742 - acc: 0.8295\n",
      "Epoch 29/120\n",
      "58500/58500 [==============================] - 4s 71us/step - loss: 0.4702 - acc: 0.8322\n",
      "Epoch 30/120\n",
      "58500/58500 [==============================] - 4s 66us/step - loss: 0.4662 - acc: 0.8334\n",
      "Epoch 31/120\n",
      "58500/58500 [==============================] - 4s 63us/step - loss: 0.4627 - acc: 0.8350\n",
      "Epoch 32/120\n",
      "58500/58500 [==============================] - 3s 53us/step - loss: 0.4591 - acc: 0.8362\n",
      "Epoch 33/120\n",
      "58500/58500 [==============================] - 3s 50us/step - loss: 0.4558 - acc: 0.8370\n",
      "Epoch 34/120\n",
      "58500/58500 [==============================] - 3s 53us/step - loss: 0.4528 - acc: 0.8378\n",
      "Epoch 35/120\n",
      "58500/58500 [==============================] - 3s 47us/step - loss: 0.4493 - acc: 0.8397\n",
      "Epoch 36/120\n",
      "58500/58500 [==============================] - 3s 44us/step - loss: 0.4464 - acc: 0.8411\n",
      "Epoch 37/120\n",
      "58500/58500 [==============================] - 4s 64us/step - loss: 0.4435 - acc: 0.8423\n",
      "Epoch 38/120\n",
      "58500/58500 [==============================] - 2s 42us/step - loss: 0.4407 - acc: 0.8427\n",
      "Epoch 39/120\n",
      "58500/58500 [==============================] - 3s 49us/step - loss: 0.4382 - acc: 0.8445\n",
      "Epoch 40/120\n",
      "58500/58500 [==============================] - 3s 55us/step - loss: 0.4354 - acc: 0.8451\n",
      "Epoch 41/120\n",
      "58500/58500 [==============================] - 3s 59us/step - loss: 0.4329 - acc: 0.8461\n",
      "Epoch 42/120\n",
      "58500/58500 [==============================] - 3s 50us/step - loss: 0.4308 - acc: 0.8466\n",
      "Epoch 43/120\n",
      "58500/58500 [==============================] - 3s 43us/step - loss: 0.4285 - acc: 0.8474\n",
      "Epoch 44/120\n",
      "58500/58500 [==============================] - 4s 68us/step - loss: 0.4259 - acc: 0.8485\n",
      "Epoch 45/120\n",
      "58500/58500 [==============================] - 4s 60us/step - loss: 0.4237 - acc: 0.8502\n",
      "Epoch 46/120\n",
      "58500/58500 [==============================] - 3s 47us/step - loss: 0.4215 - acc: 0.8503\n",
      "Epoch 47/120\n",
      "58500/58500 [==============================] - 3s 55us/step - loss: 0.4196 - acc: 0.8515\n",
      "Epoch 48/120\n",
      "58500/58500 [==============================] - 3s 56us/step - loss: 0.4175 - acc: 0.8518\n",
      "Epoch 49/120\n",
      "58500/58500 [==============================] - 3s 49us/step - loss: 0.4156 - acc: 0.8528\n",
      "Epoch 50/120\n",
      "58500/58500 [==============================] - 4s 60us/step - loss: 0.4135 - acc: 0.8532\n",
      "Epoch 51/120\n",
      "58500/58500 [==============================] - 3s 54us/step - loss: 0.4115 - acc: 0.8539\n",
      "Epoch 52/120\n",
      "58500/58500 [==============================] - 3s 47us/step - loss: 0.4098 - acc: 0.8545\n",
      "Epoch 53/120\n",
      "58500/58500 [==============================] - 3s 51us/step - loss: 0.4081 - acc: 0.8555\n",
      "Epoch 54/120\n",
      "58500/58500 [==============================] - 3s 55us/step - loss: 0.4067 - acc: 0.8557\n",
      "Epoch 55/120\n",
      "58500/58500 [==============================] - 3s 51us/step - loss: 0.4045 - acc: 0.8567\n",
      "Epoch 56/120\n",
      "58500/58500 [==============================] - 3s 44us/step - loss: 0.4031 - acc: 0.8576\n",
      "Epoch 57/120\n",
      "58500/58500 [==============================] - 3s 44us/step - loss: 0.4014 - acc: 0.8582\n",
      "Epoch 58/120\n",
      "58500/58500 [==============================] - 5s 86us/step - loss: 0.3997 - acc: 0.8589\n",
      "Epoch 59/120\n",
      "58500/58500 [==============================] - 4s 74us/step - loss: 0.3982 - acc: 0.8595\n",
      "Epoch 60/120\n",
      "58500/58500 [==============================] - 3s 46us/step - loss: 0.3964 - acc: 0.8600\n",
      "Epoch 61/120\n",
      "58500/58500 [==============================] - 3s 59us/step - loss: 0.3951 - acc: 0.8605\n",
      "Epoch 62/120\n",
      "58500/58500 [==============================] - 4s 62us/step - loss: 0.3937 - acc: 0.8609\n",
      "Epoch 63/120\n",
      "58500/58500 [==============================] - 4s 63us/step - loss: 0.3922 - acc: 0.8613\n",
      "Epoch 64/120\n",
      "58500/58500 [==============================] - 3s 51us/step - loss: 0.3903 - acc: 0.8624\n",
      "Epoch 65/120\n",
      "58500/58500 [==============================] - 3s 45us/step - loss: 0.3893 - acc: 0.8621\n",
      "Epoch 66/120\n",
      "58500/58500 [==============================] - 3s 44us/step - loss: 0.3880 - acc: 0.8626\n",
      "Epoch 67/120\n",
      "58500/58500 [==============================] - 2s 41us/step - loss: 0.3868 - acc: 0.8627\n",
      "Epoch 68/120\n",
      "58500/58500 [==============================] - 3s 48us/step - loss: 0.3852 - acc: 0.8635\n",
      "Epoch 69/120\n",
      "58500/58500 [==============================] - 3s 53us/step - loss: 0.3839 - acc: 0.8649\n",
      "Epoch 70/120\n",
      "58500/58500 [==============================] - 3s 51us/step - loss: 0.3827 - acc: 0.8646\n",
      "Epoch 71/120\n",
      "58500/58500 [==============================] - 4s 61us/step - loss: 0.3813 - acc: 0.8659\n",
      "Epoch 72/120\n",
      "58500/58500 [==============================] - 3s 53us/step - loss: 0.3801 - acc: 0.8659\n",
      "Epoch 73/120\n",
      "58500/58500 [==============================] - 3s 50us/step - loss: 0.3790 - acc: 0.8664\n",
      "Epoch 74/120\n",
      "58500/58500 [==============================] - 2s 42us/step - loss: 0.3774 - acc: 0.8675\n",
      "Epoch 75/120\n",
      "58500/58500 [==============================] - 3s 53us/step - loss: 0.3764 - acc: 0.8673\n",
      "Epoch 76/120\n",
      "58500/58500 [==============================] - 3s 56us/step - loss: 0.3752 - acc: 0.8677\n",
      "Epoch 77/120\n",
      "58500/58500 [==============================] - 3s 60us/step - loss: 0.3742 - acc: 0.8681\n",
      "Epoch 78/120\n",
      "58500/58500 [==============================] - 4s 67us/step - loss: 0.3730 - acc: 0.8686\n",
      "Epoch 79/120\n",
      "58500/58500 [==============================] - 3s 53us/step - loss: 0.3716 - acc: 0.8692\n",
      "Epoch 80/120\n",
      "58500/58500 [==============================] - 3s 50us/step - loss: 0.3704 - acc: 0.8696\n",
      "Epoch 81/120\n"
     ]
    },
    {
     "name": "stdout",
     "output_type": "stream",
     "text": [
      "58500/58500 [==============================] - 4s 61us/step - loss: 0.3694 - acc: 0.8706\n",
      "Epoch 82/120\n",
      "58500/58500 [==============================] - 3s 54us/step - loss: 0.3683 - acc: 0.8701\n",
      "Epoch 83/120\n",
      "58500/58500 [==============================] - 3s 48us/step - loss: 0.3670 - acc: 0.8715\n",
      "Epoch 84/120\n",
      "58500/58500 [==============================] - 3s 56us/step - loss: 0.3660 - acc: 0.8705\n",
      "Epoch 85/120\n",
      "58500/58500 [==============================] - 3s 46us/step - loss: 0.3650 - acc: 0.8723\n",
      "Epoch 86/120\n",
      "58500/58500 [==============================] - 2s 40us/step - loss: 0.3638 - acc: 0.8722\n",
      "Epoch 87/120\n",
      "58500/58500 [==============================] - 3s 48us/step - loss: 0.3629 - acc: 0.8730\n",
      "Epoch 88/120\n",
      "58500/58500 [==============================] - 3s 52us/step - loss: 0.3619 - acc: 0.8737\n",
      "Epoch 89/120\n",
      "58500/58500 [==============================] - 2s 41us/step - loss: 0.3608 - acc: 0.8730\n",
      "Epoch 90/120\n",
      "58500/58500 [==============================] - 2s 39us/step - loss: 0.3596 - acc: 0.8744\n",
      "Epoch 91/120\n",
      "58500/58500 [==============================] - 3s 54us/step - loss: 0.3585 - acc: 0.8744\n",
      "Epoch 92/120\n",
      "58500/58500 [==============================] - 4s 74us/step - loss: 0.3577 - acc: 0.8747\n",
      "Epoch 93/120\n",
      "58500/58500 [==============================] - 7s 121us/step - loss: 0.3562 - acc: 0.8756\n",
      "Epoch 94/120\n",
      "58500/58500 [==============================] - 5s 89us/step - loss: 0.3554 - acc: 0.8756: 1s - loss: 0.\n",
      "Epoch 95/120\n",
      "58500/58500 [==============================] - 3s 59us/step - loss: 0.3544 - acc: 0.8757\n",
      "Epoch 96/120\n",
      "58500/58500 [==============================] - 5s 80us/step - loss: 0.3538 - acc: 0.8765\n",
      "Epoch 97/120\n",
      "58500/58500 [==============================] - 4s 76us/step - loss: 0.3525 - acc: 0.8764\n",
      "Epoch 98/120\n",
      "58500/58500 [==============================] - 4s 66us/step - loss: 0.3515 - acc: 0.8777\n",
      "Epoch 99/120\n",
      "58500/58500 [==============================] - 3s 46us/step - loss: 0.3501 - acc: 0.8778\n",
      "Epoch 100/120\n",
      "58500/58500 [==============================] - 3s 47us/step - loss: 0.3495 - acc: 0.8778\n",
      "Epoch 101/120\n",
      "58500/58500 [==============================] - 3s 46us/step - loss: 0.3486 - acc: 0.8772\n",
      "Epoch 102/120\n",
      "58500/58500 [==============================] - 3s 43us/step - loss: 0.3474 - acc: 0.8783\n",
      "Epoch 103/120\n",
      "58500/58500 [==============================] - 3s 45us/step - loss: 0.3464 - acc: 0.8777\n",
      "Epoch 104/120\n",
      "58500/58500 [==============================] - 3s 52us/step - loss: 0.3457 - acc: 0.8792\n",
      "Epoch 105/120\n",
      "58500/58500 [==============================] - 3s 46us/step - loss: 0.3447 - acc: 0.8790\n",
      "Epoch 106/120\n",
      "58500/58500 [==============================] - 3s 44us/step - loss: 0.3434 - acc: 0.8799\n",
      "Epoch 107/120\n",
      "58500/58500 [==============================] - 3s 46us/step - loss: 0.3429 - acc: 0.8799\n",
      "Epoch 108/120\n",
      "58500/58500 [==============================] - 4s 63us/step - loss: 0.3419 - acc: 0.8808\n",
      "Epoch 109/120\n",
      "58500/58500 [==============================] - 3s 50us/step - loss: 0.3407 - acc: 0.8808\n",
      "Epoch 110/120\n",
      "58500/58500 [==============================] - 3s 45us/step - loss: 0.3398 - acc: 0.8806\n",
      "Epoch 111/120\n",
      "58500/58500 [==============================] - 3s 46us/step - loss: 0.3389 - acc: 0.8812\n",
      "Epoch 112/120\n",
      "58500/58500 [==============================] - 3s 46us/step - loss: 0.3378 - acc: 0.8820\n",
      "Epoch 113/120\n",
      "58500/58500 [==============================] - 3s 44us/step - loss: 0.3368 - acc: 0.8823\n",
      "Epoch 114/120\n",
      "58500/58500 [==============================] - 3s 45us/step - loss: 0.3360 - acc: 0.8831\n",
      "Epoch 115/120\n",
      "58500/58500 [==============================] - 3s 50us/step - loss: 0.3349 - acc: 0.8830\n",
      "Epoch 116/120\n",
      "58500/58500 [==============================] - 3s 44us/step - loss: 0.3341 - acc: 0.8840\n",
      "Epoch 117/120\n",
      "58500/58500 [==============================] - 3s 45us/step - loss: 0.3332 - acc: 0.8842\n",
      "Epoch 118/120\n",
      "58500/58500 [==============================] - 3s 49us/step - loss: 0.3320 - acc: 0.8843\n",
      "Epoch 119/120\n",
      "58500/58500 [==============================] - 3s 45us/step - loss: 0.3312 - acc: 0.8852\n",
      "Epoch 120/120\n",
      "58500/58500 [==============================] - 3s 44us/step - loss: 0.3303 - acc: 0.8847\n"
     ]
    }
   ],
   "source": [
    "history = model.fit(x=train, \n",
    "                    y=label_train, \n",
    "                    epochs=120, \n",
    "                    batch_size=256)"
   ]
  },
  {
   "cell_type": "markdown",
   "metadata": {},
   "source": [
    "Recall that the dictionary `history` has two entries: the loss and the accuracy achieved using the training set."
   ]
  },
  {
   "cell_type": "code",
   "execution_count": 21,
   "metadata": {},
   "outputs": [
    {
     "data": {
      "text/plain": [
       "dict_keys(['loss', 'acc'])"
      ]
     },
     "execution_count": 21,
     "metadata": {},
     "output_type": "execute_result"
    }
   ],
   "source": [
    "history_dict = history.history\n",
    "history_dict.keys()"
   ]
  },
  {
   "cell_type": "markdown",
   "metadata": {},
   "source": [
    "## Plot the results\n",
    "\n",
    "As you might expect, we'll use our ```import matplotlib.pyplot as plt``` for graphing. Use the data stored in the history_dict above to plot the loss vs epochs and the accurcay vs epochs."
   ]
  },
  {
   "cell_type": "code",
   "execution_count": 22,
   "metadata": {},
   "outputs": [
    {
     "data": {
      "image/png": "[encoded data removed]",
      "text/plain": [
       "<Figure size 432x288 with 1 Axes>"
      ]
     },
     "metadata": {
      "needs_background": "light"
     },
     "output_type": "display_data"
    }
   ],
   "source": [
    "# Plot the loss vs the number of epoch\n",
    "\n",
    "loss_values = history_dict['loss']\n",
    "epochs = range(1, len(loss_values) + 1)\n",
    "\n",
    "plt.plot(epochs, loss_values, color='midnightblue', label='Training Loss')\n",
    "plt.title('Loss vs. Number of Epochs\\n')\n",
    "plt.xlabel('Epochs')\n",
    "plt.ylabel('Loss')\n",
    "plt.legend()\n",
    "plt.show();"
   ]
  },
  {
   "cell_type": "code",
   "execution_count": 23,
   "metadata": {},
   "outputs": [
    {
     "data": {
      "image/png": "[encoded data removed]",
      "text/plain": [
       "<Figure size 432x288 with 1 Axes>"
      ]
     },
     "metadata": {
      "needs_background": "light"
     },
     "output_type": "display_data"
    }
   ],
   "source": [
    "# Plot the training accuracy vs the number of epochs\n",
    "\n",
    "accuracy_values = history_dict['acc']\n",
    "epochs = range(1, len(accuracy_values) + 1)\n",
    "\n",
    "plt.plot(epochs, accuracy_values, color='crimson', label='Training Accuracy')\n",
    "plt.title('Accuracy vs. Number of Epochs\\n')\n",
    "plt.xlabel('Epochs')\n",
    "plt.ylabel('Accuracy')\n",
    "plt.legend()\n",
    "plt.show();"
   ]
  },
  {
   "cell_type": "markdown",
   "metadata": {},
   "source": [
    "It seems like we could just keep on going and accuracy would go up!"
   ]
  },
  {
   "cell_type": "markdown",
   "metadata": {},
   "source": [
    "## Make predictions\n",
    "\n",
    "Finally, it's time to output. Use the method discussed in the previous lesson to output (probability) predictions for the test set."
   ]
  },
  {
   "cell_type": "code",
   "execution_count": 24,
   "metadata": {},
   "outputs": [],
   "source": [
    "# Output (probability) predictions for the test set\n",
    "y_hat_test = model.predict(test)"
   ]
  },
  {
   "cell_type": "markdown",
   "metadata": {},
   "source": [
    "## Evaluate Performance\n",
    "\n",
    "Finally, print the loss and accuracy for both the train and test sets of the final trained model."
   ]
  },
  {
   "cell_type": "code",
   "execution_count": 25,
   "metadata": {},
   "outputs": [
    {
     "name": "stdout",
     "output_type": "stream",
     "text": [
      "58500/58500 [==============================] - 4s 65us/step\n"
     ]
    },
    {
     "data": {
      "text/plain": [
       "[0.3245397906341614, 0.887982905982906]"
      ]
     },
     "execution_count": 25,
     "metadata": {},
     "output_type": "execute_result"
    }
   ],
   "source": [
    "# Print the loss and accuracy for the training set\n",
    "train_results = model.evaluate(train, label_train)\n",
    "train_results"
   ]
  },
  {
   "cell_type": "code",
   "execution_count": 26,
   "metadata": {},
   "outputs": [
    {
     "name": "stdout",
     "output_type": "stream",
     "text": [
      "1500/1500 [==============================] - 0s 75us/step\n"
     ]
    },
    {
     "data": {
      "text/plain": [
       "[0.24877860935529073, 0.9259999998410543]"
      ]
     },
     "execution_count": 26,
     "metadata": {},
     "output_type": "execute_result"
    }
   ],
   "source": [
    "# Print the loss and accuracy for the test set\n",
    "test_results = model.evaluate(test, label_test)\n",
    "test_results"
   ]
  },
  {
   "cell_type": "markdown",
   "metadata": {},
   "source": [
    "We can see that the **training set results are really good (a 89.4% classification accuracy!)**, but the test set results lag behind. <br> In the next lab. We'll talk a little more about this in the next lecture, and will discuss how we can get better test set results as well!"
   ]
  },
  {
   "cell_type": "markdown",
   "metadata": {},
   "source": [
    "## Additional Resources"
   ]
  },
  {
   "cell_type": "markdown",
   "metadata": {},
   "source": [
    "https://github.com/susanli2016/Machine-Learning-with-Python/blob/master/Consumer_complaints.ipynb"
   ]
  },
  {
   "cell_type": "markdown",
   "metadata": {},
   "source": [
    "https://catalog.data.gov/dataset/consumer-complaint-database"
   ]
  },
  {
   "cell_type": "markdown",
   "metadata": {},
   "source": [
    "## Summary \n",
    "\n",
    "Congratulations! In this lab, you built a neural network with much less production time thanks to the tools provided by Keras! In upcoming lessons and labs we'll continue to investigate further ideas regarding how to tune and refine these models for increased accuracy and performance."
   ]
  }
 ],
 "metadata": {
  "kernelspec": {
   "display_name": "Python 3",
   "language": "python",
   "name": "python3"
  },
  "language_info": {
   "codemirror_mode": {
    "name": "ipython",
    "version": 3
   },
   "file_extension": ".py",
   "mimetype": "text/x-python",
   "name": "python",
   "nbconvert_exporter": "python",
   "pygments_lexer": "ipython3",
   "version": "3.6.7"
  }
 },
 "nbformat": 4,
 "nbformat_minor": 2
}
